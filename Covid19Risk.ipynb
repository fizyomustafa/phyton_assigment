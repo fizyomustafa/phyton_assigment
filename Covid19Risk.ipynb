{
 "cells": [
  {
   "cell_type": "code",
   "execution_count": null,
   "id": "460afc11",
   "metadata": {},
   "outputs": [],
   "source": [
    "age = input(\"Are you a cigarette addict older than 75 years old?\")\n",
    "chornic = input(\"Do you have a severe chronic disease?\")\n",
    "immune = input(\"Is your immune system too weak?\")\n",
    "\n",
    "if age.lower() == \"yes\":\n",
    "    print(\"You are in risky group\")\n",
    "elif chornic.lower() == \"yes\":\n",
    "    print(\"You are in risky group\")\n",
    "elif immune.lower() == \"yes\":\n",
    "    print(\"You are in risky group\")\n",
    "else:\n",
    "    print(\"You are not in risky group\")"
   ]
  }
 ],
 "metadata": {
  "kernelspec": {
   "display_name": "Python 3",
   "language": "python",
   "name": "python3"
  },
  "language_info": {
   "codemirror_mode": {
    "name": "ipython",
    "version": 3
   },
   "file_extension": ".py",
   "mimetype": "text/x-python",
   "name": "python",
   "nbconvert_exporter": "python",
   "pygments_lexer": "ipython3",
   "version": "3.8.8"
  }
 },
 "nbformat": 4,
 "nbformat_minor": 5
}
